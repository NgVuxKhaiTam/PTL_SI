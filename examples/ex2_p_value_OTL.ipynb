{
 "cells": [
  {
   "cell_type": "code",
   "execution_count": 2,
   "id": "c7b385c5",
   "metadata": {},
   "outputs": [],
   "source": [
    "from ptl_si import PTL_SI, gen_data\n",
    "import numpy as np"
   ]
  },
  {
   "cell_type": "code",
   "execution_count": 3,
   "id": "ceb48be3",
   "metadata": {},
   "outputs": [],
   "source": [
    "def run_PTL_SI_OTL():\n",
    "    p = 100\n",
    "    s = 10\n",
    "    true_beta = 1\n",
    "    gamma = 0.1\n",
    "    nS = 50\n",
    "    nT = 50\n",
    "    num_uninfo_aux = 0\n",
    "    num_info_aux = 5\n",
    "    K = num_info_aux + num_uninfo_aux\n",
    "    nI = nS * K \n",
    "\n",
    "    XI_list, YI_list, X0, Y0, true_Y, SigmaI_list, Sigma0, beta_0 = gen_data.generate_data(p, s, nS, nT, true_beta, num_info_aux, num_uninfo_aux, gamma)\n",
    "    lambda_w = np.sqrt(np.log(p)/nI) * 4\n",
    "    lambda_del = np.sqrt(np.log(p)/nT) * 2\n",
    "\n",
    "    p_sel_list = PTL_SI.PTL_SI_OTL(X0, Y0, XI_list, YI_list, lambda_w, lambda_del, SigmaI_list, Sigma0, z_min=-20, z_max=20)\n",
    "\n",
    "    for i in range(len(p_sel_list)):\n",
    "        j, p_sel = p_sel_list[i]\n",
    "        print(f'Feature {j + 1}: True Beta = {beta_0[j]} - p_value = {p_sel}')\n",
    "        print(\"==========================================================================================\")"
   ]
  },
  {
   "cell_type": "code",
   "execution_count": 4,
   "id": "f7ace73f",
   "metadata": {},
   "outputs": [
    {
     "name": "stdout",
     "output_type": "stream",
     "text": [
      "Feature 1: True Beta = 1.0 - p_value = 2.36601048531071e-07\n",
      "==========================================================================================\n",
      "Feature 2: True Beta = 1.0 - p_value = 1.4210854715202004e-14\n",
      "==========================================================================================\n",
      "Feature 3: True Beta = 1.0 - p_value = 2.895392392510132e-08\n",
      "==========================================================================================\n",
      "Feature 4: True Beta = 1.0 - p_value = 1.7126648987897397e-09\n",
      "==========================================================================================\n",
      "Feature 5: True Beta = 1.0 - p_value = 2.220446049250313e-16\n",
      "==========================================================================================\n",
      "Feature 6: True Beta = 1.0 - p_value = 1.4323320307596532e-08\n",
      "==========================================================================================\n",
      "Feature 7: True Beta = 1.0 - p_value = 1.0814964539473948e-06\n",
      "==========================================================================================\n",
      "Feature 8: True Beta = 1.0 - p_value = 1.0931255900459291e-12\n",
      "==========================================================================================\n",
      "Feature 9: True Beta = 1.0 - p_value = 1.0219936008581954e-10\n",
      "==========================================================================================\n",
      "Feature 10: True Beta = 1.0 - p_value = 0.0\n",
      "==========================================================================================\n"
     ]
    }
   ],
   "source": [
    "if __name__ == '__main__':\n",
    "    run_PTL_SI_OTL()"
   ]
  }
 ],
 "metadata": {
  "kernelspec": {
   "display_name": "base",
   "language": "python",
   "name": "python3"
  },
  "language_info": {
   "codemirror_mode": {
    "name": "ipython",
    "version": 3
   },
   "file_extension": ".py",
   "mimetype": "text/x-python",
   "name": "python",
   "nbconvert_exporter": "python",
   "pygments_lexer": "ipython3",
   "version": "3.11.9"
  }
 },
 "nbformat": 4,
 "nbformat_minor": 5
}
